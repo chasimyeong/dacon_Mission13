{
  "nbformat": 4,
  "nbformat_minor": 0,
  "metadata": {
    "colab": {
      "name": "퇴근시간 버스 승차 예측.ipynb",
      "provenance": [],
      "collapsed_sections": []
    },
    "kernelspec": {
      "name": "python3",
      "display_name": "Python 3"
    },
    "accelerator": "GPU"
  },
  "cells": [
    {
      "cell_type": "code",
      "metadata": {
        "id": "hyvr4ssZD_qc",
        "colab_type": "code",
        "outputId": "58604ccc-f109-40af-e670-bfcbd95f1f14",
        "colab": {
          "base_uri": "https://localhost:8080/",
          "height": 125
        }
      },
      "source": [
        "from google.colab import drive\n",
        "drive.mount('/content/drive')"
      ],
      "execution_count": 0,
      "outputs": [
        {
          "output_type": "stream",
          "text": [
            "Go to this URL in a browser: https://accounts.google.com/o/oauth2/auth?client_id=947318989803-6bn6qk8qdgf4n4g3pfee6491hc0brc4i.apps.googleusercontent.com&redirect_uri=urn%3aietf%3awg%3aoauth%3a2.0%3aoob&response_type=code&scope=email%20https%3a%2f%2fwww.googleapis.com%2fauth%2fdocs.test%20https%3a%2f%2fwww.googleapis.com%2fauth%2fdrive%20https%3a%2f%2fwww.googleapis.com%2fauth%2fdrive.photos.readonly%20https%3a%2f%2fwww.googleapis.com%2fauth%2fpeopleapi.readonly\n",
            "\n",
            "Enter your authorization code:\n",
            "··········\n",
            "Mounted at /content/drive\n"
          ],
          "name": "stdout"
        }
      ]
    },
    {
      "cell_type": "code",
      "metadata": {
        "id": "IPjdklghfNF0",
        "colab_type": "code",
        "outputId": "df5fa24c-34e5-425e-8dc5-7c2595e43667",
        "colab": {
          "base_uri": "https://localhost:8080/",
          "height": 87
        }
      },
      "source": [
        "import pandas as pd # data processing\n",
        "import numpy as np # linear algebra\n",
        "\n",
        "# data visualization\n",
        "\n",
        "import matplotlib.pyplot as plt\n",
        "import seaborn as sns\n",
        "\n",
        "import timeit # time measure\n",
        "\n",
        "import sys\n",
        "\n",
        "print ('Python version ->', sys.version)\n",
        "print ('Numpy version ->', np.__version__)\n",
        "print ('Pandas version ->', pd.__version__)\n",
        "\n",
        "%matplotlib inline"
      ],
      "execution_count": 0,
      "outputs": [
        {
          "output_type": "stream",
          "text": [
            "Python version -> 3.6.9 (default, Nov  7 2019, 10:44:02) \n",
            "[GCC 8.3.0]\n",
            "Numpy version -> 1.17.4\n",
            "Pandas version -> 0.25.3\n"
          ],
          "name": "stdout"
        }
      ]
    },
    {
      "cell_type": "markdown",
      "metadata": {
        "id": "ZIOlnXy_h8R8",
        "colab_type": "text"
      },
      "source": [
        "# 1.Data set Load"
      ]
    },
    {
      "cell_type": "code",
      "metadata": {
        "id": "jpg46otOfngZ",
        "colab_type": "code",
        "colab": {}
      },
      "source": [
        "train = pd.read_csv(\"data/train.csv\")\n",
        "test = pd.read_csv(\"data/test.csv\")"
      ],
      "execution_count": 0,
      "outputs": []
    },
    {
      "cell_type": "markdown",
      "metadata": {
        "id": "752FgbGXjROi",
        "colab_type": "text"
      },
      "source": [
        "# 2. Processing & Engineering"
      ]
    },
    {
      "cell_type": "markdown",
      "metadata": {
        "id": "KBNrZxXHlMGe",
        "colab_type": "text"
      },
      "source": [
        "## date"
      ]
    },
    {
      "cell_type": "code",
      "metadata": {
        "id": "zkYQC-JUlawu",
        "colab_type": "code",
        "colab": {}
      },
      "source": [
        "train['date'] = pd.to_datetime(train['date'])\n",
        "test['date'] = pd.to_datetime(test['date'])"
      ],
      "execution_count": 0,
      "outputs": []
    },
    {
      "cell_type": "code",
      "metadata": {
        "colab_type": "code",
        "id": "xpDQgqlXLH_4",
        "colab": {}
      },
      "source": [
        "# 월요일 0 일요일 6\n",
        "\n",
        "train['weekday'] = train['date'].dt.weekday\n",
        "test['weekday'] = test['date'].dt.weekday"
      ],
      "execution_count": 0,
      "outputs": []
    },
    {
      "cell_type": "code",
      "metadata": {
        "colab_type": "code",
        "id": "ORel8asHLHuA",
        "colab": {}
      },
      "source": [
        "# 주말이면 0 평일이면 1\n",
        "# 공휴일을 체크하지 못한 한계점\n",
        "\n",
        "train['weekend'] = train['weekday'].map(lambda x : 1 if 4>x else 0)\n",
        "test['weekend'] = test['weekday'].map(lambda x : 1 if 4>x else 0)"
      ],
      "execution_count": 0,
      "outputs": []
    },
    {
      "cell_type": "markdown",
      "metadata": {
        "id": "tHY8ynkJJtJu",
        "colab_type": "text"
      },
      "source": [
        "date 변수를 datetime형식으로 바꾼 뒤 더미화가 아닌 주말을 0, 평일을 1로 변환한다.\n",
        "\n",
        "이 때, 요일 별 그룹 평균을 내었을 때 금요일은 토, 일과 비슷한 평균을 보여 금요일도 주말로 포함한다."
      ]
    },
    {
      "cell_type": "markdown",
      "metadata": {
        "id": "GPYzYJwhm6_m",
        "colab_type": "text"
      },
      "source": [
        "## in_out (시외, 시내)"
      ]
    },
    {
      "cell_type": "code",
      "metadata": {
        "id": "0JH0ze6ktJrn",
        "colab_type": "code",
        "colab": {}
      },
      "source": [
        "train['in_out'] = train['in_out'].map({'시내':0,'시외':1})\n",
        "test['in_out'] = test['in_out'].map({'시내':0,'시외':1})"
      ],
      "execution_count": 0,
      "outputs": []
    },
    {
      "cell_type": "markdown",
      "metadata": {
        "id": "CgzZmSvs7OpU",
        "colab_type": "text"
      },
      "source": [
        "## bus_route_id, station_code, station_name"
      ]
    },
    {
      "cell_type": "code",
      "metadata": {
        "id": "PM4hclI07NQg",
        "colab_type": "code",
        "outputId": "ed7bae73-d6c0-435a-f607-dc969127987a",
        "colab": {
          "base_uri": "https://localhost:8080/",
          "height": 70
        }
      },
      "source": [
        "print('bus_route_id unique : {}'.format(len(train['bus_route_id'].unique())))\n",
        "print('station_code unique : {}'.format(len(train['station_code'].unique())))\n",
        "print('station_name unique : {}'.format(len(train['station_name'].unique())))"
      ],
      "execution_count": 0,
      "outputs": [
        {
          "output_type": "stream",
          "text": [
            "bus_route_id unique : 613\n",
            "station_code unique : 3563\n",
            "station_name unique : 1961\n"
          ],
          "name": "stdout"
        }
      ]
    },
    {
      "cell_type": "markdown",
      "metadata": {
        "id": "WeRDGU6NKZFd",
        "colab_type": "text"
      },
      "source": [
        "string으로 되어 있는 데이터는 groupby mean을 통하여 scoring을 한다.\n",
        "\n",
        "station_name은 station_code와 상관관계가 높아질 수 있으므로 이후에 제거한다."
      ]
    },
    {
      "cell_type": "markdown",
      "metadata": {
        "id": "pVgjgRGfBfED",
        "colab_type": "text"
      },
      "source": [
        "#### bus_route_id scoring"
      ]
    },
    {
      "cell_type": "code",
      "metadata": {
        "id": "YfG3SO6f8APJ",
        "colab_type": "code",
        "colab": {}
      },
      "source": [
        "#bus_route_id를 그룹화 하여 18~20_ride 종속변수를 평균낸다. \n",
        "train_bus = train[['18~20_ride','bus_route_id']].groupby('bus_route_id').mean().sort_values('18~20_ride').reset_index()"
      ],
      "execution_count": 0,
      "outputs": []
    },
    {
      "cell_type": "code",
      "metadata": {
        "id": "TMJGl6MuMKAi",
        "colab_type": "code",
        "colab": {}
      },
      "source": [
        "#수치가 낮은것부터 1을 부여하며, 동점일 경우 같은 점수를 부여하고 그다음 그룹부터는 +1을 하여 점수를 부여\n",
        "\n",
        "bus_rank = train_bus['18~20_ride'].rank(method = 'dense', ascending = True)"
      ],
      "execution_count": 0,
      "outputs": []
    },
    {
      "cell_type": "code",
      "metadata": {
        "id": "AXEsWpuHNi6M",
        "colab_type": "code",
        "colab": {}
      },
      "source": [
        "bus_num = {}\n",
        "for i, v in enumerate(bus_rank):\n",
        "    bus = train_bus['bus_route_id'].iloc[i]\n",
        "    bus_num[bus] = v"
      ],
      "execution_count": 0,
      "outputs": []
    },
    {
      "cell_type": "code",
      "metadata": {
        "id": "EseE7G-a-Fg6",
        "colab_type": "code",
        "colab": {}
      },
      "source": [
        "train['bus_route_score'] = train['bus_route_id'].map(bus_num)\n",
        "test['bus_route_score'] = test['bus_route_id'].map(bus_num)"
      ],
      "execution_count": 0,
      "outputs": []
    },
    {
      "cell_type": "code",
      "metadata": {
        "id": "UgipvlNLQsvT",
        "colab_type": "code",
        "colab": {}
      },
      "source": [
        "#test 데이터에 NaN값이 생기는데, 이것은 test데이터에 같은 key가 없으면 NaN값으로 대체된다.\n",
        "#따라서, 그 경우 우선 train의 중앙값을 가지고와 test의 변수에 대체해준다.\n",
        "\n",
        "test['bus_route_score'].fillna(train['bus_route_score'].median(),inplace = True)"
      ],
      "execution_count": 0,
      "outputs": []
    },
    {
      "cell_type": "markdown",
      "metadata": {
        "id": "Q9_DhD0VCGoE",
        "colab_type": "text"
      },
      "source": [
        "#### station_code scoring"
      ]
    },
    {
      "cell_type": "code",
      "metadata": {
        "id": "tUROfFgT_P82",
        "colab_type": "code",
        "outputId": "1c3623b2-d1bc-4f0f-ca6b-28b743689aaa",
        "colab": {
          "base_uri": "https://localhost:8080/",
          "height": 204
        }
      },
      "source": [
        "train_st_code = train[['18~20_ride','station_code']].groupby('station_code').mean().sort_values('18~20_ride').reset_index()\n",
        "train_st_code.tail()"
      ],
      "execution_count": 0,
      "outputs": [
        {
          "output_type": "execute_result",
          "data": {
            "text/html": [
              "<div>\n",
              "<style scoped>\n",
              "    .dataframe tbody tr th:only-of-type {\n",
              "        vertical-align: middle;\n",
              "    }\n",
              "\n",
              "    .dataframe tbody tr th {\n",
              "        vertical-align: top;\n",
              "    }\n",
              "\n",
              "    .dataframe thead th {\n",
              "        text-align: right;\n",
              "    }\n",
              "</style>\n",
              "<table border=\"1\" class=\"dataframe\">\n",
              "  <thead>\n",
              "    <tr style=\"text-align: right;\">\n",
              "      <th></th>\n",
              "      <th>station_code</th>\n",
              "      <th>18~20_ride</th>\n",
              "    </tr>\n",
              "  </thead>\n",
              "  <tbody>\n",
              "    <tr>\n",
              "      <th>3558</th>\n",
              "      <td>3290</td>\n",
              "      <td>17.827586</td>\n",
              "    </tr>\n",
              "    <tr>\n",
              "      <th>3559</th>\n",
              "      <td>201</td>\n",
              "      <td>22.217617</td>\n",
              "    </tr>\n",
              "    <tr>\n",
              "      <th>3560</th>\n",
              "      <td>3350</td>\n",
              "      <td>22.352273</td>\n",
              "    </tr>\n",
              "    <tr>\n",
              "      <th>3561</th>\n",
              "      <td>3351</td>\n",
              "      <td>35.000000</td>\n",
              "    </tr>\n",
              "    <tr>\n",
              "      <th>3562</th>\n",
              "      <td>1579</td>\n",
              "      <td>52.032258</td>\n",
              "    </tr>\n",
              "  </tbody>\n",
              "</table>\n",
              "</div>"
            ],
            "text/plain": [
              "      station_code  18~20_ride\n",
              "3558          3290   17.827586\n",
              "3559           201   22.217617\n",
              "3560          3350   22.352273\n",
              "3561          3351   35.000000\n",
              "3562          1579   52.032258"
            ]
          },
          "metadata": {
            "tags": []
          },
          "execution_count": 16
        }
      ]
    },
    {
      "cell_type": "code",
      "metadata": {
        "id": "-XSgKeQfOUzN",
        "colab_type": "code",
        "colab": {}
      },
      "source": [
        "code_rank = train_st_code['18~20_ride'].rank(method = 'dense', ascending = True)"
      ],
      "execution_count": 0,
      "outputs": []
    },
    {
      "cell_type": "code",
      "metadata": {
        "id": "xFbBNYbB_XMi",
        "colab_type": "code",
        "colab": {}
      },
      "source": [
        "st_code_num = {}\n",
        "for i, v in enumerate(code_rank):\n",
        "    st_code = train_st_code['station_code'].iloc[i]\n",
        "    st_code_num[st_code] = v"
      ],
      "execution_count": 0,
      "outputs": []
    },
    {
      "cell_type": "code",
      "metadata": {
        "id": "7OVFXJIsRMnZ",
        "colab_type": "code",
        "colab": {}
      },
      "source": [
        "train['station_code_score'] = train['station_code'].map(st_code_num)\n",
        "test['station_code_score'] = test['station_code'].map(st_code_num)"
      ],
      "execution_count": 0,
      "outputs": []
    },
    {
      "cell_type": "code",
      "metadata": {
        "id": "TH5aurtQQnvb",
        "colab_type": "code",
        "colab": {}
      },
      "source": [
        "test['station_code_score'].fillna(train['station_code_score'].median(), inplace = True)"
      ],
      "execution_count": 0,
      "outputs": []
    },
    {
      "cell_type": "markdown",
      "metadata": {
        "id": "E9Z5UkwDflkg",
        "colab_type": "text"
      },
      "source": [
        "## bus_route_id & station_code scoring"
      ]
    },
    {
      "cell_type": "markdown",
      "metadata": {
        "id": "VxV1M6LYK2ez",
        "colab_type": "text"
      },
      "source": [
        "bus_route_id와 station_code를 묶어 scoring"
      ]
    },
    {
      "cell_type": "code",
      "metadata": {
        "id": "D_bMGd1Mfk5p",
        "colab_type": "code",
        "colab": {}
      },
      "source": [
        "rank_table = train.groupby(['station_code', 'bus_route_id'])[['18~20_ride']].mean().sort_values('18~20_ride').reset_index()\n",
        "rank_table['station_rank'] = rank_table['18~20_ride'].rank(method = 'dense', ascending = True)"
      ],
      "execution_count": 0,
      "outputs": []
    },
    {
      "cell_type": "code",
      "metadata": {
        "id": "2_iFmsq53Sz5",
        "colab_type": "code",
        "colab": {}
      },
      "source": [
        "train = pd.merge(train, rank_table[['station_code', 'bus_route_id', 'station_rank']], on=['bus_route_id','station_code'], how='left')\n",
        "test = pd.merge(test, rank_table[['station_code', 'bus_route_id', 'station_rank']], on=['bus_route_id','station_code'], how='left')"
      ],
      "execution_count": 0,
      "outputs": []
    },
    {
      "cell_type": "code",
      "metadata": {
        "id": "yAF3zZWMIays",
        "colab_type": "code",
        "colab": {}
      },
      "source": [
        "test['station_rank'].fillna(train['station_rank'].median(), inplace = True)"
      ],
      "execution_count": 0,
      "outputs": []
    },
    {
      "cell_type": "markdown",
      "metadata": {
        "id": "JipwJ155hJLE",
        "colab_type": "text"
      },
      "source": [
        "## ride, takeoff"
      ]
    },
    {
      "cell_type": "markdown",
      "metadata": {
        "id": "p_VWNmcKkzMo",
        "colab_type": "text"
      },
      "source": [
        "ride와 takoff시간대 총 합"
      ]
    },
    {
      "cell_type": "code",
      "metadata": {
        "id": "lfzzLYHCu2Iq",
        "colab_type": "code",
        "colab": {}
      },
      "source": [
        "train['8~12_ride'] = train['8~9_ride'] + train['9~10_ride'] + train['10~11_ride'] + train['11~12_ride']\n",
        "test['8~12_ride'] = test['8~9_ride'] + test['9~10_ride'] + test['10~11_ride'] + test['11~12_ride']"
      ],
      "execution_count": 0,
      "outputs": []
    },
    {
      "cell_type": "markdown",
      "metadata": {
        "id": "uaWFaIJiK--y",
        "colab_type": "text"
      },
      "source": [
        "6~7과 7~8은 종속변수와 상관관계가 많이 낮아서 제거"
      ]
    },
    {
      "cell_type": "code",
      "metadata": {
        "id": "ZvjfuBl0DVMs",
        "colab_type": "code",
        "colab": {}
      },
      "source": [
        "train['total_takeoff'] = train['6~7_takeoff'] + train['7~8_takeoff'] + train['8~9_takeoff'] + train['9~10_takeoff'] + train['10~11_takeoff'] + train['11~12_takeoff']\n",
        "test['total_takeoff'] = test['6~7_takeoff'] + test['7~8_takeoff'] + test['8~9_takeoff'] + test['9~10_takeoff'] + test['10~11_takeoff'] + test['11~12_takeoff']"
      ],
      "execution_count": 0,
      "outputs": []
    },
    {
      "cell_type": "markdown",
      "metadata": {
        "id": "fIoMneV1LCVx",
        "colab_type": "text"
      },
      "source": [
        "ride를 2시간마다 합침"
      ]
    },
    {
      "cell_type": "code",
      "metadata": {
        "id": "q8_tckohLB9k",
        "colab_type": "code",
        "colab": {}
      },
      "source": [
        "train['6~8_ride']=train['6~7_ride']+train['7~8_ride']\n",
        "train['8~10_ride']=train['8~9_ride']+train['9~10_ride']\n",
        "train['10~12_ride']=train['10~11_ride']+train['11~12_ride']\n",
        "\n",
        "test['6~8_ride']=test['6~7_ride']+test['7~8_ride']\n",
        "test['8~10_ride']=test['8~9_ride']+test['9~10_ride']\n",
        "test['10~12_ride']=test['10~11_ride']+test['11~12_ride']"
      ],
      "execution_count": 0,
      "outputs": []
    },
    {
      "cell_type": "code",
      "metadata": {
        "id": "cxRQcrVGLFTv",
        "colab_type": "code",
        "colab": {}
      },
      "source": [
        "train['6~8_takeoff']=train['6~7_takeoff']+train['7~8_takeoff']\n",
        "train['8~10_takeoff']=train['8~9_takeoff']+train['9~10_takeoff']\n",
        "train['10~12_takeoff']=train['10~11_takeoff']+train['11~12_takeoff']\n",
        "\n",
        "test['6~8_takeoff']=test['6~7_takeoff']+test['7~8_takeoff']\n",
        "test['8~10_takeoff']=test['8~9_takeoff']+test['9~10_takeoff']\n",
        "test['10~12_takeoff']=test['10~11_takeoff']+test['11~12_takeoff']"
      ],
      "execution_count": 0,
      "outputs": []
    },
    {
      "cell_type": "markdown",
      "metadata": {
        "id": "Ke2LqKZzKjTp",
        "colab_type": "text"
      },
      "source": [
        "#### data별 8~12 ride 총합 추가 (유동인구가 많은 날이면 종속변수값이 클것이다)"
      ]
    },
    {
      "cell_type": "code",
      "metadata": {
        "id": "eEp6bXBb3G8F",
        "colab_type": "code",
        "colab": {}
      },
      "source": [
        "date_group=train['8~12_ride'].groupby(by=train['date']).sum()\n",
        "date_dict=date_group.to_dict()\n",
        "train['date_sum_pop']=train['date'].map(date_dict)\n",
        "\n",
        "date_group=test['8~12_ride'].groupby(by=test['date']).sum()\n",
        "date_dict=date_group.to_dict()\n",
        "test['date_sum_pop']=test['date'].map(date_dict)"
      ],
      "execution_count": 0,
      "outputs": []
    },
    {
      "cell_type": "code",
      "metadata": {
        "id": "3fNnJludDByw",
        "colab_type": "code",
        "colab": {}
      },
      "source": [
        "date_group=train['total_takeoff'].groupby(by=train['date']).sum()\n",
        "date_dict=date_group.to_dict()\n",
        "train['date_takeoff_sum_pop']=train['date'].map(date_dict)\n",
        "\n",
        "date_group=test['total_takeoff'].groupby(by=test['date']).sum()\n",
        "date_dict=date_group.to_dict()\n",
        "test['date_takeoff_sum_pop']=test['date'].map(date_dict)"
      ],
      "execution_count": 0,
      "outputs": []
    },
    {
      "cell_type": "markdown",
      "metadata": {
        "id": "BMIgezbz5rc4",
        "colab_type": "text"
      },
      "source": [
        "#### station별 8~12 ride 총합 추가 (유동인구가 많은 날이면 종속변수값이 클것이다)"
      ]
    },
    {
      "cell_type": "code",
      "metadata": {
        "id": "XdiQWkiNQ__U",
        "colab_type": "code",
        "colab": {}
      },
      "source": [
        "code_group=train['8~12_ride'].groupby(by=train['station_code']).sum()\n",
        "code_dict=code_group.to_dict()\n",
        "train['code_sum_pop']=train['station_code'].map(code_dict)\n",
        "\n",
        "code_group=test['8~12_ride'].groupby(by=test['station_code']).sum()\n",
        "code_dict=code_group.to_dict()\n",
        "test['code_sum_pop']=test['station_code'].map(code_dict)"
      ],
      "execution_count": 0,
      "outputs": []
    },
    {
      "cell_type": "code",
      "metadata": {
        "id": "zehe8VUMDPLz",
        "colab_type": "code",
        "colab": {}
      },
      "source": [
        "code_group=train['total_takeoff'].groupby(by=train['station_code']).sum()\n",
        "code_dict=code_group.to_dict()\n",
        "train['code_takeoff_sum_pop']=train['station_code'].map(code_dict)\n",
        "\n",
        "code_group=test['total_takeoff'].groupby(by=test['station_code']).sum()\n",
        "code_dict=code_group.to_dict()\n",
        "test['code_takeoff_sum_pop']=test['station_code'].map(code_dict)"
      ],
      "execution_count": 0,
      "outputs": []
    },
    {
      "cell_type": "markdown",
      "metadata": {
        "id": "6SS8PC9uCiwR",
        "colab_type": "text"
      },
      "source": [
        "#### date별 시간 구간 ride 총합 추가 (유동인구가 많은 날이면 종속변수값이 클것이다)"
      ]
    },
    {
      "cell_type": "code",
      "metadata": {
        "id": "6W-YeIMuB3NB",
        "colab_type": "code",
        "colab": {}
      },
      "source": [
        "date_group=train['6~8_ride'].groupby(by=train['date']).sum()\n",
        "date_dict=date_group.to_dict()\n",
        "train['6~8ride_sum_pop']=train['date'].map(date_dict)\n",
        "\n",
        "date_group=test['6~8_ride'].groupby(by=test['date']).sum()\n",
        "date_dict=date_group.to_dict()\n",
        "test['6~8ride_sum_pop']=test['date'].map(date_dict)\n",
        "\n",
        "date_group=train['8~10_ride'].groupby(by=train['date']).sum()\n",
        "date_dict=date_group.to_dict()\n",
        "train['8~10ride_sum_pop']=train['date'].map(date_dict)\n",
        "\n",
        "date_group=test['8~10_ride'].groupby(by=test['date']).sum()\n",
        "date_dict=date_group.to_dict()\n",
        "test['8~10ride_sum_pop']=test['date'].map(date_dict)\n",
        "\n",
        "date_group=train['10~12_ride'].groupby(by=train['date']).sum()\n",
        "date_dict=date_group.to_dict()\n",
        "train['10~12ride_sum_pop']=train['date'].map(date_dict)\n",
        "\n",
        "date_group=test['10~12_ride'].groupby(by=test['date']).sum()\n",
        "date_dict=date_group.to_dict()\n",
        "test['10~12ride_sum_pop']=test['date'].map(date_dict)"
      ],
      "execution_count": 0,
      "outputs": []
    },
    {
      "cell_type": "markdown",
      "metadata": {
        "id": "XlQ6wViECrFL",
        "colab_type": "text"
      },
      "source": [
        "#### date별 시간 구간 take_off 총합 추가 (유동인구가 많은 날이면 종속변수값이 클것이다)"
      ]
    },
    {
      "cell_type": "code",
      "metadata": {
        "id": "sv7TV21TChuG",
        "colab_type": "code",
        "colab": {}
      },
      "source": [
        "date_group=train['6~8_takeoff'].groupby(by=train['date']).sum()\n",
        "date_dict=date_group.to_dict()\n",
        "train['6~8takeoff_sum_pop']=train['date'].map(date_dict)\n",
        "\n",
        "date_group=test['6~8_takeoff'].groupby(by=test['date']).sum()\n",
        "date_dict=date_group.to_dict()\n",
        "test['6~8takeoff_sum_pop']=test['date'].map(date_dict)\n",
        "\n",
        "date_group=train['8~10_takeoff'].groupby(by=train['date']).sum()\n",
        "date_dict=date_group.to_dict()\n",
        "train['8~10takeoff_sum_pop']=train['date'].map(date_dict)\n",
        "\n",
        "date_group=test['8~10_takeoff'].groupby(by=test['date']).sum()\n",
        "date_dict=date_group.to_dict()\n",
        "test['8~10takeoff_sum_pop']=test['date'].map(date_dict)\n",
        "\n",
        "date_group=train['10~12_takeoff'].groupby(by=train['date']).sum()\n",
        "date_dict=date_group.to_dict()\n",
        "train['10~12takeoff_sum_pop']=train['date'].map(date_dict)\n",
        "\n",
        "date_group=test['10~12_takeoff'].groupby(by=test['date']).sum()\n",
        "date_dict=date_group.to_dict()\n",
        "test['10~12takeoff_sum_pop']=test['date'].map(date_dict)"
      ],
      "execution_count": 0,
      "outputs": []
    },
    {
      "cell_type": "markdown",
      "metadata": {
        "id": "TTUyIkJBt6Jb",
        "colab_type": "text"
      },
      "source": [
        "## latitude, longitude"
      ]
    },
    {
      "cell_type": "code",
      "metadata": {
        "id": "AeVe0o-LudHu",
        "colab_type": "code",
        "colab": {}
      },
      "source": [
        "def ft_haversine_distance(lat1, lng1, lat2, lng2):\n",
        "    lat1, lng1, lat2, lng2 = map(np.radians, (lat1, lng1, lat2, lng2))\n",
        "    AVG_EARTH_RADIUS = 6371 #km\n",
        "    lat = lat2 - lat1\n",
        "    lng = lng2 - lng1\n",
        "    d = np.sin(lat * 0.5) ** 2 + np.cos(lat1) * np.cos(lat2) * np.sin(lng * 0.5) ** 2\n",
        "    h = 2 * AVG_EARTH_RADIUS * np.arcsin(np.sqrt(d))\n",
        "    return h"
      ],
      "execution_count": 0,
      "outputs": []
    },
    {
      "cell_type": "markdown",
      "metadata": {
        "id": "snazYnhtLRdd",
        "colab_type": "text"
      },
      "source": [
        "지구가 구형이라는 것을 감안한 haversine 거리 계산 공식"
      ]
    },
    {
      "cell_type": "code",
      "metadata": {
        "id": "r2aA2THc5Lxp",
        "colab_type": "code",
        "colab": {}
      },
      "source": [
        "jeju=(33.51411, 126.52969) # 제주 측정소 근처\n",
        "gosan=(33.29382, 126.16283) #고산 측정소 근처\n",
        "seongsan=(33.38677, 126.8802) #성산 측정소 근처\n",
        "po=(33.24616, 126.5653) #서귀포 측정소 근처"
      ],
      "execution_count": 0,
      "outputs": []
    },
    {
      "cell_type": "code",
      "metadata": {
        "id": "5q0J3XVvui_n",
        "colab_type": "code",
        "outputId": "fa1eb254-5815-4632-b3e5-14a726ba92d0",
        "colab": {
          "base_uri": "https://localhost:8080/",
          "height": 285
        }
      },
      "source": [
        "from collections import Counter # count 용도\n",
        "\n",
        "#train\n",
        "t1 = ft_haversine_distance(train['latitude'].values,\n",
        "                                                 train['longitude'].values, \n",
        "                                                 jeju[0],\n",
        "                                                 jeju[1])\n",
        "t2 = ft_haversine_distance(train['latitude'].values,\n",
        "                                                 train['longitude'].values, \n",
        "                                                 gosan[0],\n",
        "                                                 gosan[1])\n",
        "t3 = ft_haversine_distance(train['latitude'].values,\n",
        "                                                 train['longitude'].values, \n",
        "                                                 seongsan[0],\n",
        "                                                 seongsan[1])\n",
        "t4 = ft_haversine_distance(train['latitude'].values,\n",
        "                                                 train['longitude'].values, \n",
        "                                                 po[0],\n",
        "                                                 po[1])\n",
        "train['to_jeju_distance'] = t1\n",
        "train['to_gosan_distance'] = t2\n",
        "train['to_seongsan_distance'] = t3\n",
        "train['to_po_distance'] = t4\n",
        "\n",
        "total=pd.DataFrame( list(zip( t1, t2, t3, t4)),\n",
        "                   columns=['jeju','gosan','seongsan','po'] )\n",
        "train['dist_name'] = total.apply(lambda x: x.argmin(), axis=1)\n",
        "\n",
        "#test\n",
        "te1 = ft_haversine_distance(test['latitude'].values,\n",
        "                                                 test['longitude'].values, \n",
        "                                                 jeju[0],\n",
        "                                                 jeju[1])\n",
        "te2 = ft_haversine_distance(test['latitude'].values,\n",
        "                                                 test['longitude'].values, \n",
        "                                                 gosan[0],\n",
        "                                                 gosan[1])\n",
        "te3 = ft_haversine_distance(test['latitude'].values,\n",
        "                                                 test['longitude'].values, \n",
        "                                                 seongsan[0],\n",
        "                                                 seongsan[1])\n",
        "te4 = ft_haversine_distance(test['latitude'].values,\n",
        "                                                 test['longitude'].values, \n",
        "                                                 po[0],\n",
        "                                                 po[1])\n",
        "test['to_jeju_distance'] = te1\n",
        "test['to_gosan_distance'] = te2\n",
        "test['to_seongsan_distance'] = te3\n",
        "test['to_po_distance'] = te4\n",
        "\n",
        "total=pd.DataFrame( list(zip( te1, te2, te3, te4)),\n",
        "                   columns=['jeju','gosan','seongsan','po'] )\n",
        "test['dist_name'] = total.apply(lambda x: x.argmin(), axis=1)\n",
        "\n",
        "data22=train[['station_name','latitude','longitude','dist_name']].drop_duplicates(keep='first')\n",
        "\n",
        "Counter(data22['dist_name'])\n"
      ],
      "execution_count": 0,
      "outputs": [
        {
          "output_type": "stream",
          "text": [
            "/usr/local/lib/python3.6/dist-packages/ipykernel_launcher.py:27: FutureWarning: \n",
            "The current behaviour of 'Series.argmin' is deprecated, use 'idxmin'\n",
            "instead.\n",
            "The behavior of 'argmin' will be corrected to return the positional\n",
            "minimum in the future. For now, use 'series.values.argmin' or\n",
            "'np.argmin(np.array(values))' to get the position of the minimum\n",
            "row.\n",
            "/usr/local/lib/python3.6/dist-packages/ipykernel_launcher.py:53: FutureWarning: \n",
            "The current behaviour of 'Series.argmin' is deprecated, use 'idxmin'\n",
            "instead.\n",
            "The behavior of 'argmin' will be corrected to return the positional\n",
            "minimum in the future. For now, use 'series.values.argmin' or\n",
            "'np.argmin(np.array(values))' to get the position of the minimum\n",
            "row.\n"
          ],
          "name": "stderr"
        },
        {
          "output_type": "execute_result",
          "data": {
            "text/plain": [
              "Counter({'gosan': 659, 'jeju': 1479, 'po': 828, 'seongsan': 597})"
            ]
          },
          "metadata": {
            "tags": []
          },
          "execution_count": 37
        }
      ]
    },
    {
      "cell_type": "code",
      "metadata": {
        "id": "MN0Qj3yOAwbH",
        "colab_type": "code",
        "colab": {}
      },
      "source": [
        "train = pd.get_dummies(train,columns=['dist_name'])\n",
        "test = pd.get_dummies(test,columns=['dist_name'])"
      ],
      "execution_count": 0,
      "outputs": []
    },
    {
      "cell_type": "markdown",
      "metadata": {
        "id": "FQWHE_-njbqN",
        "colab_type": "text"
      },
      "source": [
        "# 3. Modeling"
      ]
    },
    {
      "cell_type": "code",
      "metadata": {
        "id": "2hilivCZzjCf",
        "colab_type": "code",
        "colab": {}
      },
      "source": [
        "#model\n",
        "from sklearn.linear_model import ElasticNet, Lasso\n",
        "from sklearn.ensemble import GradientBoostingRegressor, RandomForestRegressor\n",
        "import xgboost as xgb\n",
        "import lightgbm as lgb\n",
        "\n",
        "#processing\n",
        "from sklearn.kernel_ridge import KernelRidge\n",
        "from sklearn.pipeline import make_pipeline\n",
        "from sklearn.preprocessing import RobustScaler\n",
        "\n",
        "#validate\n",
        "from sklearn.model_selection import KFold, cross_val_score, train_test_split\n",
        "from sklearn.metrics import mean_squared_error\n"
      ],
      "execution_count": 0,
      "outputs": []
    },
    {
      "cell_type": "code",
      "metadata": {
        "id": "iAe5OKc9mSMn",
        "colab_type": "code",
        "outputId": "d6fd8cc7-50fd-433a-a28e-b56cd6715f50",
        "colab": {
          "base_uri": "https://localhost:8080/",
          "height": 285
        }
      },
      "source": [
        "train.columns"
      ],
      "execution_count": 0,
      "outputs": [
        {
          "output_type": "execute_result",
          "data": {
            "text/plain": [
              "Index(['id', 'date', 'bus_route_id', 'in_out', 'station_code', 'station_name',\n",
              "       'latitude', 'longitude', '6~7_ride', '7~8_ride', '8~9_ride',\n",
              "       '9~10_ride', '10~11_ride', '11~12_ride', '6~7_takeoff', '7~8_takeoff',\n",
              "       '8~9_takeoff', '9~10_takeoff', '10~11_takeoff', '11~12_takeoff',\n",
              "       '18~20_ride', 'weekday', 'weekend', 'bus_route_score',\n",
              "       'station_code_score', 'station_rank', '8~12_ride', '6~8_ride',\n",
              "       '8~10_ride', '10~12_ride', '6~8_takeoff', '8~10_takeoff',\n",
              "       '10~12_takeoff', 'date_sum_pop', 'code_sum_pop', 'total_takeoff',\n",
              "       'date_takeoff_sum_pop', 'code_takeoff_sum_pop', '6~8ride_sum_pop',\n",
              "       '8~10ride_sum_pop', '10~12ride_sum_pop', '6~8takeoff_sum_pop',\n",
              "       '8~10takeoff_sum_pop', '10~12takeoff_sum_pop', 'to_jeju_distance',\n",
              "       'to_gosan_distance', 'to_seongsan_distance', 'to_po_distance',\n",
              "       'dist_name_gosan', 'dist_name_jeju', 'dist_name_po',\n",
              "       'dist_name_seongsan'],\n",
              "      dtype='object')"
            ]
          },
          "metadata": {
            "tags": []
          },
          "execution_count": 40
        }
      ]
    },
    {
      "cell_type": "code",
      "metadata": {
        "id": "2Zc-8oRNFgnx",
        "colab_type": "code",
        "outputId": "54402a62-fcdf-421f-bfce-6d98297749ce",
        "colab": {
          "base_uri": "https://localhost:8080/",
          "height": 298
        }
      },
      "source": [
        "train.head()"
      ],
      "execution_count": 0,
      "outputs": [
        {
          "output_type": "execute_result",
          "data": {
            "text/html": [
              "<div>\n",
              "<style scoped>\n",
              "    .dataframe tbody tr th:only-of-type {\n",
              "        vertical-align: middle;\n",
              "    }\n",
              "\n",
              "    .dataframe tbody tr th {\n",
              "        vertical-align: top;\n",
              "    }\n",
              "\n",
              "    .dataframe thead th {\n",
              "        text-align: right;\n",
              "    }\n",
              "</style>\n",
              "<table border=\"1\" class=\"dataframe\">\n",
              "  <thead>\n",
              "    <tr style=\"text-align: right;\">\n",
              "      <th></th>\n",
              "      <th>id</th>\n",
              "      <th>date</th>\n",
              "      <th>bus_route_id</th>\n",
              "      <th>in_out</th>\n",
              "      <th>station_code</th>\n",
              "      <th>station_name</th>\n",
              "      <th>latitude</th>\n",
              "      <th>longitude</th>\n",
              "      <th>6~7_ride</th>\n",
              "      <th>7~8_ride</th>\n",
              "      <th>8~9_ride</th>\n",
              "      <th>9~10_ride</th>\n",
              "      <th>10~11_ride</th>\n",
              "      <th>11~12_ride</th>\n",
              "      <th>6~7_takeoff</th>\n",
              "      <th>7~8_takeoff</th>\n",
              "      <th>8~9_takeoff</th>\n",
              "      <th>9~10_takeoff</th>\n",
              "      <th>10~11_takeoff</th>\n",
              "      <th>11~12_takeoff</th>\n",
              "      <th>18~20_ride</th>\n",
              "      <th>weekday</th>\n",
              "      <th>weekend</th>\n",
              "      <th>bus_route_score</th>\n",
              "      <th>station_code_score</th>\n",
              "      <th>station_rank</th>\n",
              "      <th>8~12_ride</th>\n",
              "      <th>6~8_ride</th>\n",
              "      <th>8~10_ride</th>\n",
              "      <th>10~12_ride</th>\n",
              "      <th>6~8_takeoff</th>\n",
              "      <th>8~10_takeoff</th>\n",
              "      <th>10~12_takeoff</th>\n",
              "      <th>date_sum_pop</th>\n",
              "      <th>code_sum_pop</th>\n",
              "      <th>total_takeoff</th>\n",
              "      <th>date_takeoff_sum_pop</th>\n",
              "      <th>code_takeoff_sum_pop</th>\n",
              "      <th>6~8ride_sum_pop</th>\n",
              "      <th>8~10ride_sum_pop</th>\n",
              "      <th>10~12ride_sum_pop</th>\n",
              "      <th>6~8takeoff_sum_pop</th>\n",
              "      <th>8~10takeoff_sum_pop</th>\n",
              "      <th>10~12takeoff_sum_pop</th>\n",
              "      <th>to_jeju_distance</th>\n",
              "      <th>to_gosan_distance</th>\n",
              "      <th>to_seongsan_distance</th>\n",
              "      <th>to_po_distance</th>\n",
              "      <th>dist_name_gosan</th>\n",
              "      <th>dist_name_jeju</th>\n",
              "      <th>dist_name_po</th>\n",
              "      <th>dist_name_seongsan</th>\n",
              "    </tr>\n",
              "  </thead>\n",
              "  <tbody>\n",
              "    <tr>\n",
              "      <th>0</th>\n",
              "      <td>0</td>\n",
              "      <td>2019-09-01</td>\n",
              "      <td>4270000</td>\n",
              "      <td>1</td>\n",
              "      <td>344</td>\n",
              "      <td>제주썬호텔</td>\n",
              "      <td>33.48990</td>\n",
              "      <td>126.49373</td>\n",
              "      <td>0.0</td>\n",
              "      <td>1.0</td>\n",
              "      <td>2.0</td>\n",
              "      <td>5.0</td>\n",
              "      <td>2.0</td>\n",
              "      <td>6.0</td>\n",
              "      <td>0.0</td>\n",
              "      <td>0.0</td>\n",
              "      <td>0.0</td>\n",
              "      <td>0.0</td>\n",
              "      <td>0.0</td>\n",
              "      <td>0.0</td>\n",
              "      <td>0.0</td>\n",
              "      <td>6</td>\n",
              "      <td>0</td>\n",
              "      <td>368.0</td>\n",
              "      <td>1409.0</td>\n",
              "      <td>403.0</td>\n",
              "      <td>15.0</td>\n",
              "      <td>1.0</td>\n",
              "      <td>7.0</td>\n",
              "      <td>8.0</td>\n",
              "      <td>0.0</td>\n",
              "      <td>0.0</td>\n",
              "      <td>0.0</td>\n",
              "      <td>25462.0</td>\n",
              "      <td>288.0</td>\n",
              "      <td>0.0</td>\n",
              "      <td>20918.0</td>\n",
              "      <td>17.0</td>\n",
              "      <td>7460.0</td>\n",
              "      <td>11957.0</td>\n",
              "      <td>13505.0</td>\n",
              "      <td>4056.0</td>\n",
              "      <td>7748.0</td>\n",
              "      <td>9114.0</td>\n",
              "      <td>4.285370</td>\n",
              "      <td>37.671313</td>\n",
              "      <td>37.649404</td>\n",
              "      <td>27.905689</td>\n",
              "      <td>0</td>\n",
              "      <td>1</td>\n",
              "      <td>0</td>\n",
              "      <td>0</td>\n",
              "    </tr>\n",
              "    <tr>\n",
              "      <th>1</th>\n",
              "      <td>1</td>\n",
              "      <td>2019-09-01</td>\n",
              "      <td>4270000</td>\n",
              "      <td>1</td>\n",
              "      <td>357</td>\n",
              "      <td>한라병원</td>\n",
              "      <td>33.48944</td>\n",
              "      <td>126.48508</td>\n",
              "      <td>1.0</td>\n",
              "      <td>4.0</td>\n",
              "      <td>4.0</td>\n",
              "      <td>2.0</td>\n",
              "      <td>5.0</td>\n",
              "      <td>6.0</td>\n",
              "      <td>0.0</td>\n",
              "      <td>0.0</td>\n",
              "      <td>0.0</td>\n",
              "      <td>0.0</td>\n",
              "      <td>0.0</td>\n",
              "      <td>0.0</td>\n",
              "      <td>5.0</td>\n",
              "      <td>6</td>\n",
              "      <td>0</td>\n",
              "      <td>368.0</td>\n",
              "      <td>1648.0</td>\n",
              "      <td>917.0</td>\n",
              "      <td>17.0</td>\n",
              "      <td>5.0</td>\n",
              "      <td>6.0</td>\n",
              "      <td>11.0</td>\n",
              "      <td>0.0</td>\n",
              "      <td>0.0</td>\n",
              "      <td>0.0</td>\n",
              "      <td>25462.0</td>\n",
              "      <td>13277.0</td>\n",
              "      <td>0.0</td>\n",
              "      <td>20918.0</td>\n",
              "      <td>12392.0</td>\n",
              "      <td>7460.0</td>\n",
              "      <td>11957.0</td>\n",
              "      <td>13505.0</td>\n",
              "      <td>4056.0</td>\n",
              "      <td>7748.0</td>\n",
              "      <td>9114.0</td>\n",
              "      <td>4.963288</td>\n",
              "      <td>36.989306</td>\n",
              "      <td>38.399530</td>\n",
              "      <td>28.058525</td>\n",
              "      <td>0</td>\n",
              "      <td>1</td>\n",
              "      <td>0</td>\n",
              "      <td>0</td>\n",
              "    </tr>\n",
              "    <tr>\n",
              "      <th>2</th>\n",
              "      <td>2</td>\n",
              "      <td>2019-09-01</td>\n",
              "      <td>4270000</td>\n",
              "      <td>1</td>\n",
              "      <td>432</td>\n",
              "      <td>정존마을</td>\n",
              "      <td>33.48181</td>\n",
              "      <td>126.47352</td>\n",
              "      <td>1.0</td>\n",
              "      <td>1.0</td>\n",
              "      <td>0.0</td>\n",
              "      <td>2.0</td>\n",
              "      <td>0.0</td>\n",
              "      <td>0.0</td>\n",
              "      <td>0.0</td>\n",
              "      <td>0.0</td>\n",
              "      <td>0.0</td>\n",
              "      <td>0.0</td>\n",
              "      <td>0.0</td>\n",
              "      <td>0.0</td>\n",
              "      <td>2.0</td>\n",
              "      <td>6</td>\n",
              "      <td>0</td>\n",
              "      <td>368.0</td>\n",
              "      <td>1535.0</td>\n",
              "      <td>434.0</td>\n",
              "      <td>2.0</td>\n",
              "      <td>2.0</td>\n",
              "      <td>2.0</td>\n",
              "      <td>0.0</td>\n",
              "      <td>0.0</td>\n",
              "      <td>0.0</td>\n",
              "      <td>0.0</td>\n",
              "      <td>25462.0</td>\n",
              "      <td>2309.0</td>\n",
              "      <td>0.0</td>\n",
              "      <td>20918.0</td>\n",
              "      <td>788.0</td>\n",
              "      <td>7460.0</td>\n",
              "      <td>11957.0</td>\n",
              "      <td>13505.0</td>\n",
              "      <td>4056.0</td>\n",
              "      <td>7748.0</td>\n",
              "      <td>9114.0</td>\n",
              "      <td>6.326707</td>\n",
              "      <td>35.623412</td>\n",
              "      <td>39.189304</td>\n",
              "      <td>27.554532</td>\n",
              "      <td>0</td>\n",
              "      <td>1</td>\n",
              "      <td>0</td>\n",
              "      <td>0</td>\n",
              "    </tr>\n",
              "    <tr>\n",
              "      <th>3</th>\n",
              "      <td>3</td>\n",
              "      <td>2019-09-01</td>\n",
              "      <td>4270000</td>\n",
              "      <td>0</td>\n",
              "      <td>1579</td>\n",
              "      <td>제주국제공항(600번)</td>\n",
              "      <td>33.50577</td>\n",
              "      <td>126.49252</td>\n",
              "      <td>0.0</td>\n",
              "      <td>17.0</td>\n",
              "      <td>6.0</td>\n",
              "      <td>26.0</td>\n",
              "      <td>14.0</td>\n",
              "      <td>16.0</td>\n",
              "      <td>0.0</td>\n",
              "      <td>0.0</td>\n",
              "      <td>0.0</td>\n",
              "      <td>0.0</td>\n",
              "      <td>0.0</td>\n",
              "      <td>0.0</td>\n",
              "      <td>53.0</td>\n",
              "      <td>6</td>\n",
              "      <td>0</td>\n",
              "      <td>368.0</td>\n",
              "      <td>1702.0</td>\n",
              "      <td>1365.0</td>\n",
              "      <td>62.0</td>\n",
              "      <td>17.0</td>\n",
              "      <td>32.0</td>\n",
              "      <td>30.0</td>\n",
              "      <td>0.0</td>\n",
              "      <td>0.0</td>\n",
              "      <td>0.0</td>\n",
              "      <td>25462.0</td>\n",
              "      <td>2074.0</td>\n",
              "      <td>0.0</td>\n",
              "      <td>20918.0</td>\n",
              "      <td>15.0</td>\n",
              "      <td>7460.0</td>\n",
              "      <td>11957.0</td>\n",
              "      <td>13505.0</td>\n",
              "      <td>4056.0</td>\n",
              "      <td>7748.0</td>\n",
              "      <td>9114.0</td>\n",
              "      <td>3.568748</td>\n",
              "      <td>38.628116</td>\n",
              "      <td>38.326133</td>\n",
              "      <td>29.647826</td>\n",
              "      <td>0</td>\n",
              "      <td>1</td>\n",
              "      <td>0</td>\n",
              "      <td>0</td>\n",
              "    </tr>\n",
              "    <tr>\n",
              "      <th>4</th>\n",
              "      <td>4</td>\n",
              "      <td>2019-09-01</td>\n",
              "      <td>4270000</td>\n",
              "      <td>0</td>\n",
              "      <td>1646</td>\n",
              "      <td>중문관광단지입구</td>\n",
              "      <td>33.25579</td>\n",
              "      <td>126.41260</td>\n",
              "      <td>0.0</td>\n",
              "      <td>0.0</td>\n",
              "      <td>0.0</td>\n",
              "      <td>0.0</td>\n",
              "      <td>0.0</td>\n",
              "      <td>0.0</td>\n",
              "      <td>0.0</td>\n",
              "      <td>0.0</td>\n",
              "      <td>0.0</td>\n",
              "      <td>1.0</td>\n",
              "      <td>0.0</td>\n",
              "      <td>0.0</td>\n",
              "      <td>0.0</td>\n",
              "      <td>6</td>\n",
              "      <td>0</td>\n",
              "      <td>368.0</td>\n",
              "      <td>1123.0</td>\n",
              "      <td>43.0</td>\n",
              "      <td>0.0</td>\n",
              "      <td>0.0</td>\n",
              "      <td>0.0</td>\n",
              "      <td>0.0</td>\n",
              "      <td>0.0</td>\n",
              "      <td>1.0</td>\n",
              "      <td>0.0</td>\n",
              "      <td>25462.0</td>\n",
              "      <td>142.0</td>\n",
              "      <td>1.0</td>\n",
              "      <td>20918.0</td>\n",
              "      <td>668.0</td>\n",
              "      <td>7460.0</td>\n",
              "      <td>11957.0</td>\n",
              "      <td>13505.0</td>\n",
              "      <td>4056.0</td>\n",
              "      <td>7748.0</td>\n",
              "      <td>9114.0</td>\n",
              "      <td>30.712355</td>\n",
              "      <td>23.601631</td>\n",
              "      <td>45.823082</td>\n",
              "      <td>14.239850</td>\n",
              "      <td>0</td>\n",
              "      <td>0</td>\n",
              "      <td>1</td>\n",
              "      <td>0</td>\n",
              "    </tr>\n",
              "  </tbody>\n",
              "</table>\n",
              "</div>"
            ],
            "text/plain": [
              "   id       date  ...  dist_name_po  dist_name_seongsan\n",
              "0   0 2019-09-01  ...             0                   0\n",
              "1   1 2019-09-01  ...             0                   0\n",
              "2   2 2019-09-01  ...             0                   0\n",
              "3   3 2019-09-01  ...             0                   0\n",
              "4   4 2019-09-01  ...             1                   0\n",
              "\n",
              "[5 rows x 52 columns]"
            ]
          },
          "metadata": {
            "tags": []
          },
          "execution_count": 43
        }
      ]
    },
    {
      "cell_type": "code",
      "metadata": {
        "id": "XteTZ2hcM_mh",
        "colab_type": "code",
        "colab": {}
      },
      "source": [
        "#validate를 한 후 성능을 떨어트리는 변수 제거\n",
        "#종속변수와 상관관계가 높거나, 다중공산성이 덜한 변수로 구성\n",
        "#논리적으로 성능을 향상시킬 것 같은 변수 포함\n",
        "\n",
        "input_var=['in_out', 'weekend', 'to_jeju_distance', 'to_gosan_distance',\n",
        "       'to_seongsan_distance', 'to_po_distance', '6~8_ride', '8~10_ride',\n",
        "       '10~12_ride', '6~8_takeoff', '8~10_takeoff', '10~12_takeoff', \n",
        "       'code_sum_pop', 'station_rank', 'bus_route_score', \n",
        "       'station_code_score','dist_name_gosan', 'dist_name_jeju', \n",
        "       'dist_name_po', 'dist_name_seongsan', 'code_takeoff_sum_pop',\n",
        "       '6~8ride_sum_pop', '8~10ride_sum_pop', '10~12ride_sum_pop']\n",
        "target=['18~20_ride']"
      ],
      "execution_count": 0,
      "outputs": []
    },
    {
      "cell_type": "code",
      "metadata": {
        "id": "0udhh3jRX0sy",
        "colab_type": "code",
        "outputId": "0f30ef66-b21a-4db4-d1a3-130eefb61156",
        "colab": {
          "base_uri": "https://localhost:8080/",
          "height": 911
        }
      },
      "source": [
        "#상관관계 확인\n",
        "corr_train = train[input_var + target]\n",
        "k=corr_train.shape[1] #히트맵 변수 갯수\n",
        "corrmat = corr_train.corr() #변수간의 상관관계\n",
        "cols = corrmat.nlargest(k, '18~20_ride')['18~20_ride'].index # 제일 큰순서대로 20개를 뽑아냄\n",
        "cm = np.corrcoef(corr_train[cols].values.T)\n",
        "f, ax = plt.subplots(figsize=(15, 15))\n",
        "sns.heatmap(data = cm, annot=True, square=True, fmt = '.2f', linewidths=.5, cmap='Reds', \n",
        "            yticklabels = cols.values, xticklabels = cols.values)"
      ],
      "execution_count": 0,
      "outputs": [
        {
          "output_type": "execute_result",
          "data": {
            "text/plain": [
              "<matplotlib.axes._subplots.AxesSubplot at 0x7f7109f477b8>"
            ]
          },
          "metadata": {
            "tags": []
          },
          "execution_count": 61
        },
        {
          "output_type": "display_data",
          "data": {
            "image/png": "[encoded data removed]",
            "text/plain": [
              "<Figure size 1080x1080 with 2 Axes>"
            ]
          },
          "metadata": {
            "tags": []
          }
        }
      ]
    },
    {
      "cell_type": "code",
      "metadata": {
        "id": "_xgYCMVyzgKi",
        "colab_type": "code",
        "colab": {}
      },
      "source": [
        "X_train=train[input_var]\n",
        "y_train=train[target]\n",
        "\n",
        "X_test=test[input_var]"
      ],
      "execution_count": 0,
      "outputs": []
    },
    {
      "cell_type": "markdown",
      "metadata": {
        "id": "bsUFr0QRL_Uo",
        "colab_type": "text"
      },
      "source": [
        "lightgbm과 xgboost는 별도로 학습"
      ]
    },
    {
      "cell_type": "code",
      "metadata": {
        "id": "_DCqwV8nQxKR",
        "colab_type": "code",
        "colab": {}
      },
      "source": [
        "lasso = make_pipeline(RobustScaler(), Lasso(alpha = 0.0005, random_state=42))\n",
        "ENet = make_pipeline(RobustScaler(), ElasticNet(alpha=0.0005, l1_ratio=.9, random_state=42))\n",
        "forest = RandomForestRegressor(n_jobs = -1, max_features=3, min_samples_leaf=2, min_samples_split=2, n_estimators=500, random_state=42)\n",
        "\n",
        "models = [{'model' : lasso, 'name' : 'LASSO Regression'}, \n",
        "          {'model' : ENet, 'name' : 'Elastic Net Regression'}, \n",
        "         {'model' : forest, 'name' : 'RandomForset'}]"
      ],
      "execution_count": 0,
      "outputs": []
    },
    {
      "cell_type": "code",
      "metadata": {
        "id": "kQjeCGNR-br7",
        "colab_type": "code",
        "colab": {}
      },
      "source": [
        "### cross-validation은 너무 오래 걸려서, 1차적으로 validation score확인하고 cross validation으로 넘어갈지 말지 판단 !!\n",
        "\n",
        "def validate(models, X_train, y_train):\n",
        "  X_train, X_val, y_train, y_val = train_test_split(X_train, y_train, test_size = 0.25, random_state= 42)\n",
        "  for m in models:\n",
        "    modeling = m['model']\n",
        "    modeling.fit(X_train, y_train)\n",
        "    y_pred = modeling.predict(X_val)\n",
        "\n",
        "    # 퇴근시간 인원이 0보다 작을 일은 없으므로 0보다 작으면 다 0으로 처리작업\n",
        "    for i in range(len(y_pred)):\n",
        "      if y_pred[i] < 0:\n",
        "        y_pred[i] =0\n",
        "    mse = np.sqrt(mean_squared_error(y_val, y_pred))\n",
        "    # mse = np.sqrt(mean_squared_error(np.expm1(y_val), np.expm1(y_pred)))\n",
        "\n",
        "    print(\"Model {} RMSE : {:.4f}\".format( m['name'], mse))\n",
        "\n",
        "  return"
      ],
      "execution_count": 0,
      "outputs": []
    },
    {
      "cell_type": "code",
      "metadata": {
        "id": "WaHI9T8lGO5U",
        "colab_type": "code",
        "outputId": "57b5f695-3d2d-476e-e87a-9d83109177cd",
        "colab": {
          "base_uri": "https://localhost:8080/",
          "height": 106
        }
      },
      "source": [
        "%%time\n",
        "validate(models, X_train, y_train)"
      ],
      "execution_count": 0,
      "outputs": [
        {
          "output_type": "stream",
          "text": [
            "Model LASSO Regression RMSE : 3.1539\n",
            "Model Elastic Net Regression RMSE : 3.1539\n",
            "Model RandomForset RMSE : 2.0746\n",
            "CPU times: user 31.8 s, sys: 1.17 s, total: 33 s\n",
            "Wall time: 17.3 s\n"
          ],
          "name": "stdout"
        }
      ]
    },
    {
      "cell_type": "code",
      "metadata": {
        "id": "fVIQskzjNL_l",
        "colab_type": "code",
        "colab": {}
      },
      "source": [
        "def get_oof_lgbm(params, train_data, test_data, target_data, num_round, early_round, verbose_round, random_state=42):\n",
        "\n",
        "    # FOLDs=KFold(n_splits=N_SPLITS, shuffle=True,random_state=random_state)\n",
        "\n",
        "    oof = np.zeros(len(train_data))\n",
        "    predictions = np.zeros(len(test_data))\n",
        "\n",
        "    features_lgb = list(train_data.columns)\n",
        "    feature_importance_df = pd.DataFrame()\n",
        "\n",
        "    X_train, X_val, y_train, y_val = train_test_split(train_data, target_data, test_size = 0.25, random_state= 42)\n",
        "    \n",
        "    trn_data = lgb.Dataset(X_train, y_train)\n",
        "    val_data = lgb.Dataset( X_val, y_val)\n",
        "\n",
        "    num_round = num_round\n",
        "    clf = lgb.train(params, trn_data, num_round, valid_sets = [trn_data, val_data], verbose_eval=verbose_round, \n",
        "                        early_stopping_rounds = early_round)\n",
        "    y_pred = clf.predict(X_val, num_iteration=clf.best_iteration)\n",
        "\n",
        "    for i in range(len(y_pred)):\n",
        "      if y_pred[i] < 0:\n",
        "        y_pred[i] =0\n",
        "    mse = np.sqrt(mean_squared_error(y_val, y_pred))\n",
        "\n",
        "    fold_importance_df = pd.DataFrame()\n",
        "    fold_importance_df[\"feature\"] = features_lgb\n",
        "    fold_importance_df[\"importance\"] = clf.feature_importance()\n",
        "    \n",
        "    feature_importance_df = pd.concat([feature_importance_df, fold_importance_df], axis=0)\n",
        "    predictions = clf.predict(test_data, num_iteration=clf.best_iteration)\n",
        "    return y_pred, predictions, feature_importance_df, mse"
      ],
      "execution_count": 0,
      "outputs": []
    },
    {
      "cell_type": "code",
      "metadata": {
        "id": "wRmFMlfKmnAR",
        "colab_type": "code",
        "outputId": "2fbad9b7-f20d-4633-fb2f-04bb99c62936",
        "colab": {
          "base_uri": "https://localhost:8080/",
          "height": 160
        }
      },
      "source": [
        "lgb_params={\"objective\":\"regression\",\n",
        "           \"metric\":\"rmse\",\n",
        "           \"alpha\":0.08,\n",
        "           \"gamma\":0.06,\n",
        "           \"eta\":0.04,\n",
        "           \"silent\":True}\n",
        "lgb_val_pred,lgb_pred,lgb_importance, lgb_mse =get_oof_lgbm(lgb_params, X_train, X_test, y_train, num_round=100000, early_round=400, verbose_round=500, random_state=42)"
      ],
      "execution_count": 0,
      "outputs": [
        {
          "output_type": "stream",
          "text": [
            "/usr/local/lib/python3.6/dist-packages/lightgbm/basic.py:741: UserWarning: silent keyword has been found in `params` and will be ignored.\n",
            "Please use silent argument of the Dataset constructor to pass this parameter.\n",
            "  .format(key))\n"
          ],
          "name": "stderr"
        },
        {
          "output_type": "stream",
          "text": [
            "Training until validation scores don't improve for 400 rounds.\n",
            "[500]\ttraining's rmse: 1.69387\tvalid_1's rmse: 2.05589\n",
            "[1000]\ttraining's rmse: 1.54567\tvalid_1's rmse: 2.05726\n",
            "Early stopping, best iteration is:\n",
            "[621]\ttraining's rmse: 1.64845\tvalid_1's rmse: 2.05451\n"
          ],
          "name": "stdout"
        }
      ]
    },
    {
      "cell_type": "code",
      "metadata": {
        "id": "s6RCSn8tspCM",
        "colab_type": "code",
        "outputId": "59dc4119-68a6-4e37-d473-f080c369dc4e",
        "colab": {
          "base_uri": "https://localhost:8080/",
          "height": 818
        }
      },
      "source": [
        "xgb_params={\"objective\":\"reg:linear\",\n",
        "           \"metric\":\"rmse\",\n",
        "           \"alpha\":0.08,\n",
        "           \"gamma\":0.06,\n",
        "           \"eta\":0.04,\n",
        "           \"silent\":True}\n",
        "xgb_oof,xgb_pred,xgb_importance,xgb_best_mean=get_oof_xgb(xgb_params, X_train, X_test, y_train, num_round=100000, early_round=400, verbose_round=500, N_SPLITS=5, random_state=42)\n"
      ],
      "execution_count": 0,
      "outputs": [
        {
          "output_type": "stream",
          "text": [
            "[0]\ttrain-rmse:4.69516\tvalid-rmse:4.37798\n",
            "Multiple eval metrics have been passed: 'valid-rmse' will be used for early stopping.\n",
            "\n",
            "Will train until valid-rmse hasn't improved in 400 rounds.\n",
            "[500]\ttrain-rmse:1.64246\tvalid-rmse:2.03864\n",
            "[1000]\ttrain-rmse:1.49583\tvalid-rmse:2.02984\n",
            "Stopping. Best iteration:\n",
            "[874]\ttrain-rmse:1.52532\tvalid-rmse:2.02893\n",
            "\n",
            "[0]\ttrain-rmse:4.61631\tvalid-rmse:4.70692\n",
            "Multiple eval metrics have been passed: 'valid-rmse' will be used for early stopping.\n",
            "\n",
            "Will train until valid-rmse hasn't improved in 400 rounds.\n",
            "[500]\ttrain-rmse:1.62051\tvalid-rmse:2.25813\n",
            "[1000]\ttrain-rmse:1.46678\tvalid-rmse:2.25648\n",
            "Stopping. Best iteration:\n",
            "[702]\ttrain-rmse:1.54813\tvalid-rmse:2.25202\n",
            "\n",
            "[0]\ttrain-rmse:4.61408\tvalid-rmse:4.70974\n",
            "Multiple eval metrics have been passed: 'valid-rmse' will be used for early stopping.\n",
            "\n",
            "Will train until valid-rmse hasn't improved in 400 rounds.\n",
            "[500]\ttrain-rmse:1.60089\tvalid-rmse:2.19369\n",
            "[1000]\ttrain-rmse:1.46468\tvalid-rmse:2.19089\n",
            "Stopping. Best iteration:\n",
            "[772]\ttrain-rmse:1.51718\tvalid-rmse:2.18416\n",
            "\n",
            "[0]\ttrain-rmse:4.61045\tvalid-rmse:4.72783\n",
            "Multiple eval metrics have been passed: 'valid-rmse' will be used for early stopping.\n",
            "\n",
            "Will train until valid-rmse hasn't improved in 400 rounds.\n",
            "[500]\ttrain-rmse:1.62062\tvalid-rmse:2.13409\n",
            "Stopping. Best iteration:\n",
            "[386]\ttrain-rmse:1.67474\tvalid-rmse:2.12866\n",
            "\n",
            "[0]\ttrain-rmse:4.62953\tvalid-rmse:4.66098\n",
            "Multiple eval metrics have been passed: 'valid-rmse' will be used for early stopping.\n",
            "\n",
            "Will train until valid-rmse hasn't improved in 400 rounds.\n",
            "[500]\ttrain-rmse:1.61721\tvalid-rmse:2.23617\n",
            "[1000]\ttrain-rmse:1.46816\tvalid-rmse:2.2295\n",
            "Stopping. Best iteration:\n",
            "[854]\ttrain-rmse:1.505\tvalid-rmse:2.22691\n",
            "\n"
          ],
          "name": "stdout"
        }
      ]
    },
    {
      "cell_type": "markdown",
      "metadata": {
        "id": "yufX581XMJ-6",
        "colab_type": "text"
      },
      "source": [
        "퇴근시간 승차인원이 -인 경우는 없으므로 -인 경우는 다 0으로 변환"
      ]
    },
    {
      "cell_type": "code",
      "metadata": {
        "id": "GLW-Km4JHp4x",
        "colab_type": "code",
        "outputId": "182827f3-c30f-435e-b1ae-32446ecc0cbc",
        "colab": {
          "base_uri": "https://localhost:8080/",
          "height": 52
        }
      },
      "source": [
        "rf_X_train, X_val, rf_y_train, y_val = train_test_split(X_train, y_train, test_size = 0.25, random_state= 42)\n",
        "y_pred = forest.predict(X_val)\n",
        "\n",
        "for i in range(len(y_pred)):\n",
        "      if y_pred[i] < 0:\n",
        "        y_pred[i] =0\n",
        "\n",
        "y_pred"
      ],
      "execution_count": 0,
      "outputs": [
        {
          "output_type": "execute_result",
          "data": {
            "text/plain": [
              "array([0.00890324, 2.38343631, 0.74974279, ..., 0.74108412, 1.55836121,\n",
              "       0.13370837])"
            ]
          },
          "metadata": {
            "tags": []
          },
          "execution_count": 88
        }
      ]
    },
    {
      "cell_type": "code",
      "metadata": {
        "id": "OmceeUPQJppW",
        "colab_type": "code",
        "colab": {}
      },
      "source": [
        "xgb_train, xgb_val = train_test_split(xgb_pred, test_size = 0.25, random_state= 42)\n",
        "for i in range(len(xgb_val)):\n",
        "      if xgb_val[i] < 0:\n",
        "        xgb_val[i] =0"
      ],
      "execution_count": 0,
      "outputs": []
    },
    {
      "cell_type": "code",
      "metadata": {
        "id": "Hvnac6FQ77yM",
        "colab_type": "code",
        "colab": {}
      },
      "source": [
        "lgb_train, lgb_val = train_test_split(lgb_pred, test_size = 0.25, random_state= 42)\n",
        "for i in range(len(lgb_val)):\n",
        "      if lgb_val[i] < 0:\n",
        "        lgb_val[i] =0"
      ],
      "execution_count": 0,
      "outputs": []
    },
    {
      "cell_type": "markdown",
      "metadata": {
        "id": "rBfpoyB1Mcj2",
        "colab_type": "text"
      },
      "source": [
        "rmse를 최소화 하는 모델을 선택하여 Averaging Model로 사용"
      ]
    },
    {
      "cell_type": "code",
      "metadata": {
        "id": "a9adcpc1M6bi",
        "colab_type": "code",
        "colab": {}
      },
      "source": [
        "t = (xgb_val + lgb_val, y_pred)/3"
      ],
      "execution_count": 0,
      "outputs": []
    },
    {
      "cell_type": "code",
      "metadata": {
        "id": "S_10hJ6D8Ch0",
        "colab_type": "code",
        "outputId": "03b62b27-e176-49c7-f46d-e63860d0d6d4",
        "colab": {
          "base_uri": "https://localhost:8080/",
          "height": 35
        }
      },
      "source": [
        "#xgb + rf + lgb\n",
        "np.sqrt(mean_squared_error(y_val, t))"
      ],
      "execution_count": 0,
      "outputs": [
        {
          "output_type": "execute_result",
          "data": {
            "text/plain": [
              "2.0526756308046683"
            ]
          },
          "metadata": {
            "tags": []
          },
          "execution_count": 64
        }
      ]
    },
    {
      "cell_type": "code",
      "metadata": {
        "id": "zR9asryoNHqB",
        "colab_type": "code",
        "colab": {}
      },
      "source": [
        "t = (xgb_val + y_pred)/2"
      ],
      "execution_count": 0,
      "outputs": []
    },
    {
      "cell_type": "code",
      "metadata": {
        "id": "CTz9PeB_6QnZ",
        "colab_type": "code",
        "outputId": "1d80049d-8751-4651-925c-c665f00ccff5",
        "colab": {
          "base_uri": "https://localhost:8080/",
          "height": 35
        }
      },
      "source": [
        "#xgb + rf\n",
        "np.sqrt(mean_squared_error(y_val, t))"
      ],
      "execution_count": 0,
      "outputs": [
        {
          "output_type": "execute_result",
          "data": {
            "text/plain": [
              "2.0745259439717727"
            ]
          },
          "metadata": {
            "tags": []
          },
          "execution_count": 56
        }
      ]
    },
    {
      "cell_type": "code",
      "metadata": {
        "id": "fDTNVRb7NK4a",
        "colab_type": "code",
        "colab": {}
      },
      "source": [
        "t = (lightgbm_val + y_pred)/2"
      ],
      "execution_count": 0,
      "outputs": []
    },
    {
      "cell_type": "code",
      "metadata": {
        "id": "WyAxwYL2J-PO",
        "colab_type": "code",
        "outputId": "60b95290-943f-42c0-cb51-40a192a319a9",
        "colab": {
          "base_uri": "https://localhost:8080/",
          "height": 34
        }
      },
      "source": [
        "#lightgbm + rf\n",
        "np.sqrt(mean_squared_error(y_val, t))"
      ],
      "execution_count": 0,
      "outputs": [
        {
          "output_type": "execute_result",
          "data": {
            "text/plain": [
              "2.0451649388999447"
            ]
          },
          "metadata": {
            "tags": []
          },
          "execution_count": 99
        }
      ]
    },
    {
      "cell_type": "code",
      "metadata": {
        "id": "gMhyR1u-84H7",
        "colab_type": "code",
        "outputId": "2385c0dd-b489-4528-cde4-e9a6ad03878e",
        "colab": {
          "base_uri": "https://localhost:8080/",
          "height": 52
        }
      },
      "source": [
        "forest.fit(X_train, y_train)\n",
        "rf_prediction = forest.predict(X_test)\n",
        "for i in range(len(rf_prediction)):\n",
        "      if rf_prediction[i] < 0:\n",
        "        rf_prediction[i] =0\n"
      ],
      "execution_count": 0,
      "outputs": [
        {
          "output_type": "stream",
          "text": [
            "/usr/local/lib/python3.6/dist-packages/ipykernel_launcher.py:1: DataConversionWarning: A column-vector y was passed when a 1d array was expected. Please change the shape of y to (n_samples,), for example using ravel().\n",
            "  \"\"\"Entry point for launching an IPython kernel.\n"
          ],
          "name": "stderr"
        }
      ]
    },
    {
      "cell_type": "code",
      "metadata": {
        "id": "sv4UFp_xVOpa",
        "colab_type": "code",
        "colab": {}
      },
      "source": [
        "for i in range(len(lgb_pred)):\n",
        "      if lgb_pred[i] < 0:\n",
        "        lgb_pred[i] =0"
      ],
      "execution_count": 0,
      "outputs": []
    },
    {
      "cell_type": "code",
      "metadata": {
        "id": "a63dDH5Y86Wz",
        "colab_type": "code",
        "colab": {}
      },
      "source": [
        "predictions = (lgb_pred + rf_prediction)/2"
      ],
      "execution_count": 0,
      "outputs": []
    },
    {
      "cell_type": "code",
      "metadata": {
        "id": "xq6Z-cN37QX_",
        "colab_type": "code",
        "colab": {}
      },
      "source": [
        "sub = pd.read_csv('data/submission_sample.csv')"
      ],
      "execution_count": 0,
      "outputs": []
    },
    {
      "cell_type": "code",
      "metadata": {
        "id": "prF3BCMkM_U8",
        "colab_type": "code",
        "colab": {}
      },
      "source": [
        "sub['18~20_ride'] = predictions"
      ],
      "execution_count": 0,
      "outputs": []
    },
    {
      "cell_type": "code",
      "metadata": {
        "id": "Nm1J8YaA7usw",
        "colab_type": "code",
        "colab": {}
      },
      "source": [
        "sub.to_csv('CHA/submission_1206_1751.csv', index = False)"
      ],
      "execution_count": 0,
      "outputs": []
    }
  ]
}